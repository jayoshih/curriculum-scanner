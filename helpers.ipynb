{
 "cells": [
  {
   "cell_type": "code",
   "execution_count": 2,
   "metadata": {},
   "outputs": [
    {
     "data": {
      "text/plain": [
       "{'x0': 0, 'x1': 300, 'y0': 10, 'y1': 30}"
      ]
     },
     "execution_count": 2,
     "metadata": {},
     "output_type": "execute_result"
    }
   ],
   "source": [
    "from helpers import Word, Line, Item, BoundingBox\n",
    "\n",
    "test_words = [\n",
    "\tWord(\"bullet\", BoundingBox(0, 50, 10, 30)),\n",
    "\tWord(\"test\", BoundingBox(150, 250, 10, 30)),\n",
    "\tWord(\"abc\", BoundingBox(255, 300, 10, 30)),\n",
    "]\n",
    "\n",
    "test_line1 = Line([Word('header', BoundingBox(0, 100, 10, 30))], fontweight=\"bold\")\n",
    "test_line2 = Line(test_words)\n",
    "\n",
    "test_bullet = Word(\"-\", BoundingBox(1, 2, 3, 4))\n",
    "\n",
    "test_item = Item(test_bullet, [test_line1, test_line2])\n",
    "\n",
    "test_item.get_box().__dict__"
   ]
  },
  {
   "cell_type": "code",
   "execution_count": 3,
   "metadata": {},
   "outputs": [
    {
     "name": "stdout",
     "output_type": "stream",
     "text": [
      "header\n",
      "bullet test abc\n"
     ]
    }
   ],
   "source": [
    "print(test_item.get_text())"
   ]
  },
  {
   "cell_type": "code",
   "execution_count": 12,
   "metadata": {},
   "outputs": [
    {
     "ename": "AttributeError",
     "evalue": "'Line' object has no attribute 'extract_bullet'",
     "output_type": "error",
     "traceback": [
      "\u001b[1;31m---------------------------------------------------------------------------\u001b[0m",
      "\u001b[1;31mAttributeError\u001b[0m                            Traceback (most recent call last)",
      "\u001b[1;32m<ipython-input-12-544a014d679a>\u001b[0m in \u001b[0;36m<module>\u001b[1;34m\u001b[0m\n\u001b[1;32m----> 1\u001b[1;33m \u001b[0mtest_line2\u001b[0m\u001b[1;33m.\u001b[0m\u001b[0mextract_bullet\u001b[0m\u001b[1;33m(\u001b[0m\u001b[1;33m)\u001b[0m\u001b[1;33m\u001b[0m\u001b[0m\n\u001b[0m",
      "\u001b[1;31mAttributeError\u001b[0m: 'Line' object has no attribute 'extract_bullet'"
     ]
    }
   ],
   "source": [
    "test_line2.extract_bullet()"
   ]
  },
  {
   "cell_type": "code",
   "execution_count": null,
   "metadata": {},
   "outputs": [],
   "source": []
  },
  {
   "cell_type": "code",
   "execution_count": null,
   "metadata": {},
   "outputs": [],
   "source": []
  }
 ],
 "metadata": {
  "kernelspec": {
   "display_name": "Python 3",
   "language": "python",
   "name": "python3"
  },
  "language_info": {
   "codemirror_mode": {
    "name": "ipython",
    "version": 3
   },
   "file_extension": ".py",
   "mimetype": "text/x-python",
   "name": "python",
   "nbconvert_exporter": "python",
   "pygments_lexer": "ipython3",
   "version": "3.6.1"
  }
 },
 "nbformat": 4,
 "nbformat_minor": 2
}
