{
 "cells": [
  {
   "cell_type": "code",
   "execution_count": 20,
   "metadata": {},
   "outputs": [
    {
     "data": {
      "text/plain": [
       "{'x1': 0, 'y1': 10, 'x2': 300, 'y2': 30}"
      ]
     },
     "execution_count": 20,
     "metadata": {},
     "output_type": "execute_result"
    }
   ],
   "source": [
    "from classes import Word, Line, Item, BoundingBox\n",
    "\n",
    "test_words = [\n",
    "\tWord(\"bullet\", BoundingBox(0,10, 50, 30)),\n",
    "\tWord(\"test\", BoundingBox(150, 10, 250, 30)),\n",
    "\tWord(\"abc\", BoundingBox(255, 10, 300, 30)),\n",
    "]\n",
    "\n",
    "test_line1 = Line([Word('header', BoundingBox(0, 10, 100, 30))], fontweight=\"bold\")\n",
    "test_line2 = Line(test_words)\n",
    "\n",
    "test_bullet = Word(\"-\", BoundingBox(1, 2, 3, 4))\n",
    "\n",
    "test_item = Item(test_bullet, [test_line1, test_line2])\n",
    "\n",
    "test_item.get_box().__dict__"
   ]
  },
  {
   "cell_type": "code",
   "execution_count": 21,
   "metadata": {},
   "outputs": [
    {
     "name": "stdout",
     "output_type": "stream",
     "text": [
      "header\n",
      "bullet test abc\n"
     ]
    }
   ],
   "source": [
    "print(test_item.get_text())"
   ]
  },
  {
   "cell_type": "code",
   "execution_count": 24,
   "metadata": {},
   "outputs": [
    {
     "data": {
      "text/plain": [
       "'bullet'"
      ]
     },
     "execution_count": 24,
     "metadata": {},
     "output_type": "execute_result"
    }
   ],
   "source": [
    "test_line2.extract_bullet().text"
   ]
  },
  {
   "cell_type": "code",
   "execution_count": 23,
   "metadata": {},
   "outputs": [
    {
     "data": {
      "text/plain": [
       "'bullet test abc'"
      ]
     },
     "execution_count": 23,
     "metadata": {},
     "output_type": "execute_result"
    }
   ],
   "source": [
    "test_line2.get_text()"
   ]
  },
  {
   "cell_type": "code",
   "execution_count": null,
   "metadata": {},
   "outputs": [],
   "source": []
  }
 ],
 "metadata": {
  "kernelspec": {
   "display_name": "Python 3",
   "language": "python",
   "name": "python3"
  },
  "language_info": {
   "codemirror_mode": {
    "name": "ipython",
    "version": 3
   },
   "file_extension": ".py",
   "mimetype": "text/x-python",
   "name": "python",
   "nbconvert_exporter": "python",
   "pygments_lexer": "ipython3",
   "version": "3.6.1"
  }
 },
 "nbformat": 4,
 "nbformat_minor": 2
}
